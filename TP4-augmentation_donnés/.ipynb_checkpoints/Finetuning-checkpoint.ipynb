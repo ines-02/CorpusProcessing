{
 "cells": [
  {
   "cell_type": "code",
   "execution_count": 2,
   "id": "64d11ff7-a29f-4c49-bed9-7fffe67ec161",
   "metadata": {},
   "outputs": [
    {
     "data": {
      "application/vnd.jupyter.widget-view+json": {
       "model_id": "59c76ef279a24b33be41dca3895c72f4",
       "version_major": 2,
       "version_minor": 0
      },
      "text/plain": [
       "Map:   0%|          | 0/76 [00:00<?, ? examples/s]"
      ]
     },
     "metadata": {},
     "output_type": "display_data"
    },
    {
     "data": {
      "application/vnd.jupyter.widget-view+json": {
       "model_id": "32322303b08d4ce0a2abbd976dd94423",
       "version_major": 2,
       "version_minor": 0
      },
      "text/plain": [
       "Map:   0%|          | 0/20 [00:00<?, ? examples/s]"
      ]
     },
     "metadata": {},
     "output_type": "display_data"
    },
    {
     "name": "stderr",
     "output_type": "stream",
     "text": [
      "Some weights of CamembertForSequenceClassification were not initialized from the model checkpoint at camembert-base and are newly initialized: ['classifier.dense.bias', 'classifier.dense.weight', 'classifier.out_proj.bias', 'classifier.out_proj.weight']\n",
      "You should probably TRAIN this model on a down-stream task to be able to use it for predictions and inference.\n"
     ]
    },
    {
     "data": {
      "text/html": [
       "\n",
       "    <div>\n",
       "      \n",
       "      <progress value='20' max='20' style='width:300px; height:20px; vertical-align: middle;'></progress>\n",
       "      [20/20 01:47, Epoch 2/2]\n",
       "    </div>\n",
       "    <table border=\"1\" class=\"dataframe\">\n",
       "  <thead>\n",
       " <tr style=\"text-align: left;\">\n",
       "      <th>Step</th>\n",
       "      <th>Training Loss</th>\n",
       "    </tr>\n",
       "  </thead>\n",
       "  <tbody>\n",
       "  </tbody>\n",
       "</table><p>"
      ],
      "text/plain": [
       "<IPython.core.display.HTML object>"
      ]
     },
     "metadata": {},
     "output_type": "display_data"
    },
    {
     "data": {
      "text/html": [
       "\n",
       "    <div>\n",
       "      \n",
       "      <progress value='3' max='3' style='width:300px; height:20px; vertical-align: middle;'></progress>\n",
       "      [3/3 00:01]\n",
       "    </div>\n",
       "    "
      ],
      "text/plain": [
       "<IPython.core.display.HTML object>"
      ]
     },
     "metadata": {},
     "output_type": "display_data"
    },
    {
     "name": "stdout",
     "output_type": "stream",
     "text": [
      "{'eval_loss': 0.23651166260242462, 'eval_accuracy': 0.95, 'eval_runtime': 2.9091, 'eval_samples_per_second': 6.875, 'eval_steps_per_second': 1.031, 'epoch': 2.0}\n"
     ]
    },
    {
     "data": {
      "application/vnd.jupyter.widget-view+json": {
       "model_id": "d96eda0385d04586918ccf4c0bb81c05",
       "version_major": 2,
       "version_minor": 0
      },
      "text/plain": [
       "Map:   0%|          | 0/76 [00:00<?, ? examples/s]"
      ]
     },
     "metadata": {},
     "output_type": "display_data"
    },
    {
     "data": {
      "application/vnd.jupyter.widget-view+json": {
       "model_id": "ad4ef52a29d340d88cdeb6969d8e40bc",
       "version_major": 2,
       "version_minor": 0
      },
      "text/plain": [
       "Map:   0%|          | 0/20 [00:00<?, ? examples/s]"
      ]
     },
     "metadata": {},
     "output_type": "display_data"
    },
    {
     "name": "stderr",
     "output_type": "stream",
     "text": [
      "Some weights of CamembertForSequenceClassification were not initialized from the model checkpoint at camembert-base and are newly initialized: ['classifier.dense.bias', 'classifier.dense.weight', 'classifier.out_proj.bias', 'classifier.out_proj.weight']\n",
      "You should probably TRAIN this model on a down-stream task to be able to use it for predictions and inference.\n"
     ]
    },
    {
     "data": {
      "text/html": [
       "\n",
       "    <div>\n",
       "      \n",
       "      <progress value='20' max='20' style='width:300px; height:20px; vertical-align: middle;'></progress>\n",
       "      [20/20 01:31, Epoch 2/2]\n",
       "    </div>\n",
       "    <table border=\"1\" class=\"dataframe\">\n",
       "  <thead>\n",
       " <tr style=\"text-align: left;\">\n",
       "      <th>Step</th>\n",
       "      <th>Training Loss</th>\n",
       "    </tr>\n",
       "  </thead>\n",
       "  <tbody>\n",
       "  </tbody>\n",
       "</table><p>"
      ],
      "text/plain": [
       "<IPython.core.display.HTML object>"
      ]
     },
     "metadata": {},
     "output_type": "display_data"
    },
    {
     "data": {
      "text/html": [
       "\n",
       "    <div>\n",
       "      \n",
       "      <progress value='3' max='3' style='width:300px; height:20px; vertical-align: middle;'></progress>\n",
       "      [3/3 00:01]\n",
       "    </div>\n",
       "    "
      ],
      "text/plain": [
       "<IPython.core.display.HTML object>"
      ]
     },
     "metadata": {},
     "output_type": "display_data"
    },
    {
     "name": "stdout",
     "output_type": "stream",
     "text": [
      "{'eval_loss': 0.6642757654190063, 'eval_accuracy': 0.8, 'eval_runtime': 3.0112, 'eval_samples_per_second': 6.642, 'eval_steps_per_second': 0.996, 'epoch': 2.0}\n",
      "Modèles sauvegardés avec succès.\n"
     ]
    }
   ],
   "source": [
    "import pandas as pd\n",
    "from datasets import Dataset\n",
    "from transformers import CamembertTokenizer, CamembertForSequenceClassification, Trainer, TrainingArguments\n",
    "import torch\n",
    "import evaluate\n",
    "\n",
    "# Charger les données\n",
    "df = pd.read_csv('../TP4-augmentation_données/dataset_horreur.csv')\n",
    "\n",
    "# ----------- BINAIRE (horreur ou pas) -----------\n",
    "df_bin = df[['text', 'label_binary']].rename(columns={'label_binary': 'label'})  # ✅ CHANGEMENT\n",
    "dataset_bin = Dataset.from_pandas(df_bin)\n",
    "dataset_bin = dataset_bin.train_test_split(test_size=0.2, seed=42)\n",
    "\n",
    "tokenizer = CamembertTokenizer.from_pretrained('camembert-base')\n",
    "\n",
    "def preprocess_function(examples):\n",
    "    return tokenizer(examples['text'], truncation=True, padding='max_length', max_length=128)\n",
    "\n",
    "encoded_bin = dataset_bin.map(preprocess_function, batched=True)\n",
    "\n",
    "model_bin = CamembertForSequenceClassification.from_pretrained('camembert-base', num_labels=2)\n",
    "\n",
    "metric = evaluate.load(\"accuracy\")\n",
    "def compute_metrics(eval_pred):\n",
    "    logits, labels = eval_pred\n",
    "    preds = torch.argmax(torch.tensor(logits), dim=-1)\n",
    "    return metric.compute(predictions=preds, references=labels)\n",
    "\n",
    "training_args_bin = TrainingArguments(\n",
    "    output_dir='./results_bin',\n",
    "    num_train_epochs=2,\n",
    "    per_device_train_batch_size=8,\n",
    "    per_device_eval_batch_size=8,\n",
    "    logging_dir='./logs_bin',\n",
    "    save_total_limit=1,\n",
    ")\n",
    "\n",
    "trainer_bin = Trainer(\n",
    "    model=model_bin,\n",
    "    args=training_args_bin,\n",
    "    train_dataset=encoded_bin['train'],\n",
    "    eval_dataset=encoded_bin['test'],\n",
    "    compute_metrics=compute_metrics\n",
    ")\n",
    "\n",
    "trainer_bin.train()\n",
    "print(trainer_bin.evaluate())\n",
    "\n",
    "# ----------- SEVERITY (0, 1, 2) -----------\n",
    "df_sev = df[['text', 'label_severity']].rename(columns={'label_severity': 'label'})  # ✅ CHANGEMENT\n",
    "dataset_sev = Dataset.from_pandas(df_sev)\n",
    "dataset_sev = dataset_sev.train_test_split(test_size=0.2, seed=42)\n",
    "\n",
    "encoded_sev = dataset_sev.map(preprocess_function, batched=True)\n",
    "\n",
    "model_sev = CamembertForSequenceClassification.from_pretrained('camembert-base', num_labels=3)\n",
    "\n",
    "training_args_sev = TrainingArguments(\n",
    "    output_dir='./results_sev',\n",
    "    num_train_epochs=2,\n",
    "    per_device_train_batch_size=8,\n",
    "    per_device_eval_batch_size=8,\n",
    "    logging_dir='./logs_sev',\n",
    "    save_total_limit=1,\n",
    ")\n",
    "\n",
    "trainer_sev = Trainer(\n",
    "    model=model_sev,\n",
    "    args=training_args_sev,\n",
    "    train_dataset=encoded_sev['train'],\n",
    "    eval_dataset=encoded_sev['test'],\n",
    "    compute_metrics=compute_metrics\n",
    ")\n",
    "\n",
    "trainer_sev.train()\n",
    "print(trainer_sev.evaluate())\n",
    "# Sauvegarde du modèle binaire\n",
    "model_bin.save_pretrained(\"./camembert_binary\")\n",
    "tokenizer.save_pretrained(\"./camembert_binary\")\n",
    "\n",
    "# Sauvegarde du modèle de sévérité\n",
    "model_sev.save_pretrained(\"./camembert_severity\")\n",
    "tokenizer.save_pretrained(\"./camembert_severity\")\n",
    "\n",
    "print(\"Modèles sauvegardés avec succès.\")\n",
    "\n"
   ]
  },
  {
   "cell_type": "code",
   "execution_count": null,
   "id": "ac5a58a1-8d24-4b26-a68c-b7b4ed4471c9",
   "metadata": {},
   "outputs": [],
   "source": []
  }
 ],
 "metadata": {
  "kernelspec": {
   "display_name": "mon_env",
   "language": "python",
   "name": "mon_env"
  },
  "language_info": {
   "codemirror_mode": {
    "name": "ipython",
    "version": 3
   },
   "file_extension": ".py",
   "mimetype": "text/x-python",
   "name": "python",
   "nbconvert_exporter": "python",
   "pygments_lexer": "ipython3",
   "version": "3.12.3"
  }
 },
 "nbformat": 4,
 "nbformat_minor": 5
}
